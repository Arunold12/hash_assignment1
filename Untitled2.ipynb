{
  "nbformat": 4,
  "nbformat_minor": 0,
  "metadata": {
    "colab": {
      "provenance": []
    },
    "kernelspec": {
      "name": "python3",
      "display_name": "Python 3"
    },
    "language_info": {
      "name": "python"
    }
  },
  "cells": [
    {
      "cell_type": "code",
      "execution_count": 2,
      "metadata": {
        "colab": {
          "base_uri": "https://localhost:8080/"
        },
        "id": "tR0HjWUfAtBr",
        "outputId": "d53aacaa-ee5f-4dfe-a4e7-64762363992a"
      },
      "outputs": [
        {
          "output_type": "stream",
          "name": "stdout",
          "text": [
            "enter the string : abcdefghijklm\n",
            "enter the k : 3\n",
            "defghijklmabc\n"
          ]
        }
      ],
      "source": [
        "def rotatestring(n,k):\n",
        "    r=[]\n",
        "    for i in range(k,len(n)):\n",
        "       r.append(n[i])\n",
        "    for j in range(len(n)):\n",
        "        if n[j] not in r:\n",
        "            r.append(n[j])\n",
        "    res=\"\".join(r)\n",
        "    return res\n",
        "\n",
        "n=input(\"enter the string : \")\n",
        "k=int(input(\"enter the k : \"))\n",
        "print(rotatestring(n,k))"
      ]
    },
    {
      "cell_type": "code",
      "source": [],
      "metadata": {
        "id": "6Bl_NNL6AvIs"
      },
      "execution_count": null,
      "outputs": []
    }
  ]
}